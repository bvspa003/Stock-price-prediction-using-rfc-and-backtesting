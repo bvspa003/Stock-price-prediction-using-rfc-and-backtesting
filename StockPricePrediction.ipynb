{
 "cells": [
  {
   "cell_type": "code",
   "execution_count": 1,
   "metadata": {
    "colab": {
     "base_uri": "https://localhost:8080/"
    },
    "id": "qPd_NZGlyRsT",
    "outputId": "e16b370d-c4b1-4b42-a40b-b03773990c39"
   },
   "outputs": [
    {
     "name": "stderr",
     "output_type": "stream",
     "text": [
      "WARNING: You are using pip version 20.2.3; however, version 22.3.1 is available.\n",
      "You should consider upgrading via the 'd:\\new folder\\python.exe -m pip install --upgrade pip' command.\n"
     ]
    },
    {
     "name": "stdout",
     "output_type": "stream",
     "text": [
      "Requirement already satisfied: yfinance in d:\\new folder\\lib\\site-packages (0.1.74)\n",
      "Requirement already satisfied: numpy>=1.15 in d:\\new folder\\lib\\site-packages (from yfinance) (1.20.0)\n",
      "Requirement already satisfied: requests>=2.26 in d:\\new folder\\lib\\site-packages (from yfinance) (2.28.1)\n",
      "Requirement already satisfied: pandas>=0.24.0 in d:\\new folder\\lib\\site-packages (from yfinance) (1.4.3)\n",
      "Requirement already satisfied: multitasking>=0.0.7 in d:\\new folder\\lib\\site-packages (from yfinance) (0.0.11)\n",
      "Requirement already satisfied: lxml>=4.5.1 in d:\\new folder\\lib\\site-packages (from yfinance) (4.9.1)\n",
      "Requirement already satisfied: charset-normalizer<3,>=2 in d:\\new folder\\lib\\site-packages (from requests>=2.26->yfinance) (2.1.1)\n",
      "Requirement already satisfied: urllib3<1.27,>=1.21.1 in d:\\new folder\\lib\\site-packages (from requests>=2.26->yfinance) (1.26.12)\n",
      "Requirement already satisfied: certifi>=2017.4.17 in d:\\new folder\\lib\\site-packages (from requests>=2.26->yfinance) (2022.6.15)\n",
      "Requirement already satisfied: idna<4,>=2.5 in d:\\new folder\\lib\\site-packages (from requests>=2.26->yfinance) (3.3)\n",
      "Requirement already satisfied: python-dateutil>=2.8.1 in d:\\new folder\\lib\\site-packages (from pandas>=0.24.0->yfinance) (2.8.1)\n",
      "Requirement already satisfied: pytz>=2020.1 in d:\\new folder\\lib\\site-packages (from pandas>=0.24.0->yfinance) (2022.2.1)\n",
      "Requirement already satisfied: six>=1.5 in d:\\new folder\\lib\\site-packages (from python-dateutil>=2.8.1->pandas>=0.24.0->yfinance) (1.15.0)\n"
     ]
    }
   ],
   "source": [
    "!pip install yfinance\n",
    "import yfinance as yf\n",
    "import pandas as pd\n",
    "import os"
   ]
  },
  {
   "cell_type": "code",
   "execution_count": 2,
   "metadata": {
    "id": "x4tWOEDQ0krR"
   },
   "outputs": [],
   "source": [
    "tatmot=yf.Ticker(\"TATAMOTORS.NS\")\n",
    "tatmot=tatmot.history(period=\"max\")\n",
    "tatmot.to_csv(\"tatmot.csv\")"
   ]
  },
  {
   "cell_type": "code",
   "execution_count": 3,
   "metadata": {
    "colab": {
     "base_uri": "https://localhost:8080/",
     "height": 455
    },
    "id": "EgannITP1shI",
    "outputId": "1f6ed595-4501-4c78-a656-3afc72ef2fdc"
   },
   "outputs": [
    {
     "data": {
      "text/html": [
       "<div>\n",
       "<style scoped>\n",
       "    .dataframe tbody tr th:only-of-type {\n",
       "        vertical-align: middle;\n",
       "    }\n",
       "\n",
       "    .dataframe tbody tr th {\n",
       "        vertical-align: top;\n",
       "    }\n",
       "\n",
       "    .dataframe thead th {\n",
       "        text-align: right;\n",
       "    }\n",
       "</style>\n",
       "<table border=\"1\" class=\"dataframe\">\n",
       "  <thead>\n",
       "    <tr style=\"text-align: right;\">\n",
       "      <th></th>\n",
       "      <th>Open</th>\n",
       "      <th>High</th>\n",
       "      <th>Low</th>\n",
       "      <th>Close</th>\n",
       "      <th>Volume</th>\n",
       "      <th>Dividends</th>\n",
       "      <th>Stock Splits</th>\n",
       "    </tr>\n",
       "    <tr>\n",
       "      <th>Date</th>\n",
       "      <th></th>\n",
       "      <th></th>\n",
       "      <th></th>\n",
       "      <th></th>\n",
       "      <th></th>\n",
       "      <th></th>\n",
       "      <th></th>\n",
       "    </tr>\n",
       "  </thead>\n",
       "  <tbody>\n",
       "    <tr>\n",
       "      <th>1995-12-25</th>\n",
       "      <td>53.472778</td>\n",
       "      <td>53.472778</td>\n",
       "      <td>53.472778</td>\n",
       "      <td>53.472778</td>\n",
       "      <td>0</td>\n",
       "      <td>0.0</td>\n",
       "      <td>0.0</td>\n",
       "    </tr>\n",
       "    <tr>\n",
       "      <th>1995-12-26</th>\n",
       "      <td>53.472778</td>\n",
       "      <td>53.472778</td>\n",
       "      <td>53.472778</td>\n",
       "      <td>53.472778</td>\n",
       "      <td>0</td>\n",
       "      <td>0.0</td>\n",
       "      <td>0.0</td>\n",
       "    </tr>\n",
       "    <tr>\n",
       "      <th>1995-12-27</th>\n",
       "      <td>53.472778</td>\n",
       "      <td>53.472778</td>\n",
       "      <td>53.472778</td>\n",
       "      <td>53.472778</td>\n",
       "      <td>0</td>\n",
       "      <td>0.0</td>\n",
       "      <td>0.0</td>\n",
       "    </tr>\n",
       "    <tr>\n",
       "      <th>1995-12-28</th>\n",
       "      <td>53.472778</td>\n",
       "      <td>53.472778</td>\n",
       "      <td>53.472778</td>\n",
       "      <td>53.472778</td>\n",
       "      <td>0</td>\n",
       "      <td>0.0</td>\n",
       "      <td>0.0</td>\n",
       "    </tr>\n",
       "    <tr>\n",
       "      <th>1995-12-29</th>\n",
       "      <td>53.472778</td>\n",
       "      <td>53.472778</td>\n",
       "      <td>53.472778</td>\n",
       "      <td>53.472778</td>\n",
       "      <td>0</td>\n",
       "      <td>0.0</td>\n",
       "      <td>0.0</td>\n",
       "    </tr>\n",
       "    <tr>\n",
       "      <th>...</th>\n",
       "      <td>...</td>\n",
       "      <td>...</td>\n",
       "      <td>...</td>\n",
       "      <td>...</td>\n",
       "      <td>...</td>\n",
       "      <td>...</td>\n",
       "      <td>...</td>\n",
       "    </tr>\n",
       "    <tr>\n",
       "      <th>2022-11-02</th>\n",
       "      <td>423.049988</td>\n",
       "      <td>425.100006</td>\n",
       "      <td>420.149994</td>\n",
       "      <td>422.149994</td>\n",
       "      <td>12433578</td>\n",
       "      <td>0.0</td>\n",
       "      <td>0.0</td>\n",
       "    </tr>\n",
       "    <tr>\n",
       "      <th>2022-11-03</th>\n",
       "      <td>419.399994</td>\n",
       "      <td>423.299988</td>\n",
       "      <td>414.500000</td>\n",
       "      <td>416.250000</td>\n",
       "      <td>10987519</td>\n",
       "      <td>0.0</td>\n",
       "      <td>0.0</td>\n",
       "    </tr>\n",
       "    <tr>\n",
       "      <th>2022-11-04</th>\n",
       "      <td>418.200012</td>\n",
       "      <td>426.000000</td>\n",
       "      <td>416.899994</td>\n",
       "      <td>425.350006</td>\n",
       "      <td>12277023</td>\n",
       "      <td>0.0</td>\n",
       "      <td>0.0</td>\n",
       "    </tr>\n",
       "    <tr>\n",
       "      <th>2022-11-07</th>\n",
       "      <td>428.250000</td>\n",
       "      <td>437.500000</td>\n",
       "      <td>428.250000</td>\n",
       "      <td>435.000000</td>\n",
       "      <td>15058076</td>\n",
       "      <td>0.0</td>\n",
       "      <td>0.0</td>\n",
       "    </tr>\n",
       "    <tr>\n",
       "      <th>2022-11-09</th>\n",
       "      <td>439.200012</td>\n",
       "      <td>441.200012</td>\n",
       "      <td>432.649994</td>\n",
       "      <td>438.250000</td>\n",
       "      <td>6146740</td>\n",
       "      <td>0.0</td>\n",
       "      <td>0.0</td>\n",
       "    </tr>\n",
       "  </tbody>\n",
       "</table>\n",
       "<p>6761 rows × 7 columns</p>\n",
       "</div>"
      ],
      "text/plain": [
       "                  Open        High         Low       Close    Volume  \\\n",
       "Date                                                                   \n",
       "1995-12-25   53.472778   53.472778   53.472778   53.472778         0   \n",
       "1995-12-26   53.472778   53.472778   53.472778   53.472778         0   \n",
       "1995-12-27   53.472778   53.472778   53.472778   53.472778         0   \n",
       "1995-12-28   53.472778   53.472778   53.472778   53.472778         0   \n",
       "1995-12-29   53.472778   53.472778   53.472778   53.472778         0   \n",
       "...                ...         ...         ...         ...       ...   \n",
       "2022-11-02  423.049988  425.100006  420.149994  422.149994  12433578   \n",
       "2022-11-03  419.399994  423.299988  414.500000  416.250000  10987519   \n",
       "2022-11-04  418.200012  426.000000  416.899994  425.350006  12277023   \n",
       "2022-11-07  428.250000  437.500000  428.250000  435.000000  15058076   \n",
       "2022-11-09  439.200012  441.200012  432.649994  438.250000   6146740   \n",
       "\n",
       "            Dividends  Stock Splits  \n",
       "Date                                 \n",
       "1995-12-25        0.0           0.0  \n",
       "1995-12-26        0.0           0.0  \n",
       "1995-12-27        0.0           0.0  \n",
       "1995-12-28        0.0           0.0  \n",
       "1995-12-29        0.0           0.0  \n",
       "...               ...           ...  \n",
       "2022-11-02        0.0           0.0  \n",
       "2022-11-03        0.0           0.0  \n",
       "2022-11-04        0.0           0.0  \n",
       "2022-11-07        0.0           0.0  \n",
       "2022-11-09        0.0           0.0  \n",
       "\n",
       "[6761 rows x 7 columns]"
      ]
     },
     "execution_count": 3,
     "metadata": {},
     "output_type": "execute_result"
    }
   ],
   "source": [
    "tatmot"
   ]
  },
  {
   "cell_type": "code",
   "execution_count": 4,
   "metadata": {
    "colab": {
     "base_uri": "https://localhost:8080/",
     "height": 298
    },
    "id": "KxgdAWNS1vdG",
    "outputId": "50369524-a379-42b0-f53d-4787dc45d136"
   },
   "outputs": [
    {
     "data": {
      "text/plain": [
       "<AxesSubplot:xlabel='Date'>"
      ]
     },
     "execution_count": 4,
     "metadata": {},
     "output_type": "execute_result"
    },
    {
     "data": {
      "image/png": "[encoded data removed]",
      "text/plain": [
       "<Figure size 432x288 with 1 Axes>"
      ]
     },
     "metadata": {
      "needs_background": "light"
     },
     "output_type": "display_data"
    }
   ],
   "source": [
    "tatmot.plot.line(y='Close',use_index=True)"
   ]
  },
  {
   "cell_type": "code",
   "execution_count": 5,
   "metadata": {
    "id": "SRhny8RuCmqM"
   },
   "outputs": [],
   "source": [
    "del tatmot[\"Dividends\"]\n",
    "del tatmot[\"Stock Splits\"]"
   ]
  },
  {
   "cell_type": "code",
   "execution_count": 6,
   "metadata": {
    "id": "-x2MPHAjZ2zR"
   },
   "outputs": [],
   "source": [
    "tatmot[\"Tomorrow\"] = tatmot[\"Close\"].shift(-1)\n",
    "tatmot[\"Target\"] = (tatmot[\"Tomorrow\"] > tatmot[\"Close\"]).astype(int)\n"
   ]
  },
  {
   "cell_type": "code",
   "execution_count": 7,
   "metadata": {
    "colab": {
     "base_uri": "https://localhost:8080/",
     "height": 455
    },
    "id": "kOG8rnn1aT5I",
    "outputId": "4e94f000-4f84-4655-e44b-3bec9926f307"
   },
   "outputs": [
    {
     "data": {
      "text/html": [
       "<div>\n",
       "<style scoped>\n",
       "    .dataframe tbody tr th:only-of-type {\n",
       "        vertical-align: middle;\n",
       "    }\n",
       "\n",
       "    .dataframe tbody tr th {\n",
       "        vertical-align: top;\n",
       "    }\n",
       "\n",
       "    .dataframe thead th {\n",
       "        text-align: right;\n",
       "    }\n",
       "</style>\n",
       "<table border=\"1\" class=\"dataframe\">\n",
       "  <thead>\n",
       "    <tr style=\"text-align: right;\">\n",
       "      <th></th>\n",
       "      <th>Open</th>\n",
       "      <th>High</th>\n",
       "      <th>Low</th>\n",
       "      <th>Close</th>\n",
       "      <th>Volume</th>\n",
       "      <th>Tomorrow</th>\n",
       "      <th>Target</th>\n",
       "    </tr>\n",
       "    <tr>\n",
       "      <th>Date</th>\n",
       "      <th></th>\n",
       "      <th></th>\n",
       "      <th></th>\n",
       "      <th></th>\n",
       "      <th></th>\n",
       "      <th></th>\n",
       "      <th></th>\n",
       "    </tr>\n",
       "  </thead>\n",
       "  <tbody>\n",
       "    <tr>\n",
       "      <th>1995-12-25</th>\n",
       "      <td>53.472778</td>\n",
       "      <td>53.472778</td>\n",
       "      <td>53.472778</td>\n",
       "      <td>53.472778</td>\n",
       "      <td>0</td>\n",
       "      <td>53.472778</td>\n",
       "      <td>0</td>\n",
       "    </tr>\n",
       "    <tr>\n",
       "      <th>1995-12-26</th>\n",
       "      <td>53.472778</td>\n",
       "      <td>53.472778</td>\n",
       "      <td>53.472778</td>\n",
       "      <td>53.472778</td>\n",
       "      <td>0</td>\n",
       "      <td>53.472778</td>\n",
       "      <td>0</td>\n",
       "    </tr>\n",
       "    <tr>\n",
       "      <th>1995-12-27</th>\n",
       "      <td>53.472778</td>\n",
       "      <td>53.472778</td>\n",
       "      <td>53.472778</td>\n",
       "      <td>53.472778</td>\n",
       "      <td>0</td>\n",
       "      <td>53.472778</td>\n",
       "      <td>0</td>\n",
       "    </tr>\n",
       "    <tr>\n",
       "      <th>1995-12-28</th>\n",
       "      <td>53.472778</td>\n",
       "      <td>53.472778</td>\n",
       "      <td>53.472778</td>\n",
       "      <td>53.472778</td>\n",
       "      <td>0</td>\n",
       "      <td>53.472778</td>\n",
       "      <td>0</td>\n",
       "    </tr>\n",
       "    <tr>\n",
       "      <th>1995-12-29</th>\n",
       "      <td>53.472778</td>\n",
       "      <td>53.472778</td>\n",
       "      <td>53.472778</td>\n",
       "      <td>53.472778</td>\n",
       "      <td>0</td>\n",
       "      <td>53.472778</td>\n",
       "      <td>0</td>\n",
       "    </tr>\n",
       "    <tr>\n",
       "      <th>...</th>\n",
       "      <td>...</td>\n",
       "      <td>...</td>\n",
       "      <td>...</td>\n",
       "      <td>...</td>\n",
       "      <td>...</td>\n",
       "      <td>...</td>\n",
       "      <td>...</td>\n",
       "    </tr>\n",
       "    <tr>\n",
       "      <th>2022-11-02</th>\n",
       "      <td>423.049988</td>\n",
       "      <td>425.100006</td>\n",
       "      <td>420.149994</td>\n",
       "      <td>422.149994</td>\n",
       "      <td>12433578</td>\n",
       "      <td>416.250000</td>\n",
       "      <td>0</td>\n",
       "    </tr>\n",
       "    <tr>\n",
       "      <th>2022-11-03</th>\n",
       "      <td>419.399994</td>\n",
       "      <td>423.299988</td>\n",
       "      <td>414.500000</td>\n",
       "      <td>416.250000</td>\n",
       "      <td>10987519</td>\n",
       "      <td>425.350006</td>\n",
       "      <td>1</td>\n",
       "    </tr>\n",
       "    <tr>\n",
       "      <th>2022-11-04</th>\n",
       "      <td>418.200012</td>\n",
       "      <td>426.000000</td>\n",
       "      <td>416.899994</td>\n",
       "      <td>425.350006</td>\n",
       "      <td>12277023</td>\n",
       "      <td>435.000000</td>\n",
       "      <td>1</td>\n",
       "    </tr>\n",
       "    <tr>\n",
       "      <th>2022-11-07</th>\n",
       "      <td>428.250000</td>\n",
       "      <td>437.500000</td>\n",
       "      <td>428.250000</td>\n",
       "      <td>435.000000</td>\n",
       "      <td>15058076</td>\n",
       "      <td>438.250000</td>\n",
       "      <td>1</td>\n",
       "    </tr>\n",
       "    <tr>\n",
       "      <th>2022-11-09</th>\n",
       "      <td>439.200012</td>\n",
       "      <td>441.200012</td>\n",
       "      <td>432.649994</td>\n",
       "      <td>438.250000</td>\n",
       "      <td>6146740</td>\n",
       "      <td>NaN</td>\n",
       "      <td>0</td>\n",
       "    </tr>\n",
       "  </tbody>\n",
       "</table>\n",
       "<p>6761 rows × 7 columns</p>\n",
       "</div>"
      ],
      "text/plain": [
       "                  Open        High         Low       Close    Volume  \\\n",
       "Date                                                                   \n",
       "1995-12-25   53.472778   53.472778   53.472778   53.472778         0   \n",
       "1995-12-26   53.472778   53.472778   53.472778   53.472778         0   \n",
       "1995-12-27   53.472778   53.472778   53.472778   53.472778         0   \n",
       "1995-12-28   53.472778   53.472778   53.472778   53.472778         0   \n",
       "1995-12-29   53.472778   53.472778   53.472778   53.472778         0   \n",
       "...                ...         ...         ...         ...       ...   \n",
       "2022-11-02  423.049988  425.100006  420.149994  422.149994  12433578   \n",
       "2022-11-03  419.399994  423.299988  414.500000  416.250000  10987519   \n",
       "2022-11-04  418.200012  426.000000  416.899994  425.350006  12277023   \n",
       "2022-11-07  428.250000  437.500000  428.250000  435.000000  15058076   \n",
       "2022-11-09  439.200012  441.200012  432.649994  438.250000   6146740   \n",
       "\n",
       "              Tomorrow  Target  \n",
       "Date                            \n",
       "1995-12-25   53.472778       0  \n",
       "1995-12-26   53.472778       0  \n",
       "1995-12-27   53.472778       0  \n",
       "1995-12-28   53.472778       0  \n",
       "1995-12-29   53.472778       0  \n",
       "...                ...     ...  \n",
       "2022-11-02  416.250000       0  \n",
       "2022-11-03  425.350006       1  \n",
       "2022-11-04  435.000000       1  \n",
       "2022-11-07  438.250000       1  \n",
       "2022-11-09         NaN       0  \n",
       "\n",
       "[6761 rows x 7 columns]"
      ]
     },
     "execution_count": 7,
     "metadata": {},
     "output_type": "execute_result"
    }
   ],
   "source": [
    "tatmot"
   ]
  },
  {
   "cell_type": "code",
   "execution_count": 8,
   "metadata": {
    "colab": {
     "base_uri": "https://localhost:8080/"
    },
    "id": "eKHfOrfaaVjE",
    "outputId": "1fd9fc70-8d0b-448e-ca33-e4d69f866997"
   },
   "outputs": [
    {
     "name": "stdout",
     "output_type": "stream",
     "text": [
      "Requirement already satisfied: sklearn in d:\\new folder\\lib\\site-packages (0.0)\n",
      "Requirement already satisfied: scikit-learn in d:\\new folder\\lib\\site-packages (from sklearn) (1.1.2)\n",
      "Requirement already satisfied: threadpoolctl>=2.0.0 in d:\\new folder\\lib\\site-packages (from scikit-learn->sklearn) (3.1.0)\n",
      "Requirement already satisfied: scipy>=1.3.2 in d:\\new folder\\lib\\site-packages (from scikit-learn->sklearn) (1.9.1)\n",
      "Requirement already satisfied: numpy>=1.17.3 in d:\\new folder\\lib\\site-packages (from scikit-learn->sklearn) (1.20.0)\n",
      "Requirement already satisfied: joblib>=1.0.0 in d:\\new folder\\lib\\site-packages (from scikit-learn->sklearn) (1.1.0)\n"
     ]
    },
    {
     "name": "stderr",
     "output_type": "stream",
     "text": [
      "WARNING: You are using pip version 20.2.3; however, version 22.3.1 is available.\n",
      "You should consider upgrading via the 'd:\\new folder\\python.exe -m pip install --upgrade pip' command.\n"
     ]
    },
    {
     "data": {
      "text/html": [
       "<style>#sk-container-id-1 {color: black;background-color: white;}#sk-container-id-1 pre{padding: 0;}#sk-container-id-1 div.sk-toggleable {background-color: white;}#sk-container-id-1 label.sk-toggleable__label {cursor: pointer;display: block;width: 100%;margin-bottom: 0;padding: 0.3em;box-sizing: border-box;text-align: center;}#sk-container-id-1 label.sk-toggleable__label-arrow:before {content: \"▸\";float: left;margin-right: 0.25em;color: #696969;}#sk-container-id-1 label.sk-toggleable__label-arrow:hover:before {color: black;}#sk-container-id-1 div.sk-estimator:hover label.sk-toggleable__label-arrow:before {color: black;}#sk-container-id-1 div.sk-toggleable__content {max-height: 0;max-width: 0;overflow: hidden;text-align: left;background-color: #f0f8ff;}#sk-container-id-1 div.sk-toggleable__content pre {margin: 0.2em;color: black;border-radius: 0.25em;background-color: #f0f8ff;}#sk-container-id-1 input.sk-toggleable__control:checked~div.sk-toggleable__content {max-height: 200px;max-width: 100%;overflow: auto;}#sk-container-id-1 input.sk-toggleable__control:checked~label.sk-toggleable__label-arrow:before {content: \"▾\";}#sk-container-id-1 div.sk-estimator input.sk-toggleable__control:checked~label.sk-toggleable__label {background-color: #d4ebff;}#sk-container-id-1 div.sk-label input.sk-toggleable__control:checked~label.sk-toggleable__label {background-color: #d4ebff;}#sk-container-id-1 input.sk-hidden--visually {border: 0;clip: rect(1px 1px 1px 1px);clip: rect(1px, 1px, 1px, 1px);height: 1px;margin: -1px;overflow: hidden;padding: 0;position: absolute;width: 1px;}#sk-container-id-1 div.sk-estimator {font-family: monospace;background-color: #f0f8ff;border: 1px dotted black;border-radius: 0.25em;box-sizing: border-box;margin-bottom: 0.5em;}#sk-container-id-1 div.sk-estimator:hover {background-color: #d4ebff;}#sk-container-id-1 div.sk-parallel-item::after {content: \"\";width: 100%;border-bottom: 1px solid gray;flex-grow: 1;}#sk-container-id-1 div.sk-label:hover label.sk-toggleable__label {background-color: #d4ebff;}#sk-container-id-1 div.sk-serial::before {content: \"\";position: absolute;border-left: 1px solid gray;box-sizing: border-box;top: 0;bottom: 0;left: 50%;z-index: 0;}#sk-container-id-1 div.sk-serial {display: flex;flex-direction: column;align-items: center;background-color: white;padding-right: 0.2em;padding-left: 0.2em;position: relative;}#sk-container-id-1 div.sk-item {position: relative;z-index: 1;}#sk-container-id-1 div.sk-parallel {display: flex;align-items: stretch;justify-content: center;background-color: white;position: relative;}#sk-container-id-1 div.sk-item::before, #sk-container-id-1 div.sk-parallel-item::before {content: \"\";position: absolute;border-left: 1px solid gray;box-sizing: border-box;top: 0;bottom: 0;left: 50%;z-index: -1;}#sk-container-id-1 div.sk-parallel-item {display: flex;flex-direction: column;z-index: 1;position: relative;background-color: white;}#sk-container-id-1 div.sk-parallel-item:first-child::after {align-self: flex-end;width: 50%;}#sk-container-id-1 div.sk-parallel-item:last-child::after {align-self: flex-start;width: 50%;}#sk-container-id-1 div.sk-parallel-item:only-child::after {width: 0;}#sk-container-id-1 div.sk-dashed-wrapped {border: 1px dashed gray;margin: 0 0.4em 0.5em 0.4em;box-sizing: border-box;padding-bottom: 0.4em;background-color: white;}#sk-container-id-1 div.sk-label label {font-family: monospace;font-weight: bold;display: inline-block;line-height: 1.2em;}#sk-container-id-1 div.sk-label-container {text-align: center;}#sk-container-id-1 div.sk-container {/* jupyter's `normalize.less` sets `[hidden] { display: none; }` but bootstrap.min.css set `[hidden] { display: none !important; }` so we also need the `!important` here to be able to override the default hidden behavior on the sphinx rendered scikit-learn.org. See: https://github.com/scikit-learn/scikit-learn/issues/21755 */display: inline-block !important;position: relative;}#sk-container-id-1 div.sk-text-repr-fallback {display: none;}</style><div id=\"sk-container-id-1\" class=\"sk-top-container\"><div class=\"sk-text-repr-fallback\"><pre>RandomForestClassifier(min_samples_split=100, random_state=1)</pre><b>In a Jupyter environment, please rerun this cell to show the HTML representation or trust the notebook. <br />On GitHub, the HTML representation is unable to render, please try loading this page with nbviewer.org.</b></div><div class=\"sk-container\" hidden><div class=\"sk-item\"><div class=\"sk-estimator sk-toggleable\"><input class=\"sk-toggleable__control sk-hidden--visually\" id=\"sk-estimator-id-1\" type=\"checkbox\" checked><label for=\"sk-estimator-id-1\" class=\"sk-toggleable__label sk-toggleable__label-arrow\">RandomForestClassifier</label><div class=\"sk-toggleable__content\"><pre>RandomForestClassifier(min_samples_split=100, random_state=1)</pre></div></div></div></div></div>"
      ],
      "text/plain": [
       "RandomForestClassifier(min_samples_split=100, random_state=1)"
      ]
     },
     "execution_count": 8,
     "metadata": {},
     "output_type": "execute_result"
    }
   ],
   "source": [
    "!pip install sklearn\n",
    "from sklearn.ensemble import RandomForestClassifier\n",
    "\n",
    "model = RandomForestClassifier(n_estimators=100, min_samples_split=100, random_state=1)\n",
    "\n",
    "train = tatmot.iloc[:-100]\n",
    "test = tatmot.iloc[-100:]\n",
    "\n",
    "predictors = [\"Close\", \"Volume\", \"Open\", \"High\", \"Low\"]\n",
    "model.fit(train[predictors], train[\"Target\"])"
   ]
  },
  {
   "cell_type": "code",
   "execution_count": 9,
   "metadata": {
    "colab": {
     "base_uri": "https://localhost:8080/"
    },
    "id": "DUdL8WV0bTEY",
    "outputId": "001c2904-d7ef-4902-dc57-a5895d6218d7"
   },
   "outputs": [
    {
     "data": {
      "text/plain": [
       "0.48936170212765956"
      ]
     },
     "execution_count": 9,
     "metadata": {},
     "output_type": "execute_result"
    }
   ],
   "source": [
    "from sklearn.metrics import precision_score\n",
    "\n",
    "preds = model.predict(test[predictors])\n",
    "preds = pd.Series(preds, index=test.index)\n",
    "precision_score(test[\"Target\"], preds)"
   ]
  },
  {
   "cell_type": "code",
   "execution_count": 10,
   "metadata": {
    "colab": {
     "base_uri": "https://localhost:8080/",
     "height": 294
    },
    "id": "u7q0X_TFba_l",
    "outputId": "59dbffb6-bb1f-4958-cb94-de39f7db772b"
   },
   "outputs": [
    {
     "data": {
      "text/plain": [
       "<AxesSubplot:xlabel='Date'>"
      ]
     },
     "execution_count": 10,
     "metadata": {},
     "output_type": "execute_result"
    },
    {
     "data": {
      "image/png": "[encoded data removed]",
      "text/plain": [
       "<Figure size 432x288 with 1 Axes>"
      ]
     },
     "metadata": {
      "needs_background": "light"
     },
     "output_type": "display_data"
    }
   ],
   "source": [
    "combined = pd.concat([test[\"Target\"], preds], axis=1)\n",
    "combined.plot()"
   ]
  },
  {
   "cell_type": "code",
   "execution_count": 11,
   "metadata": {
    "id": "1XHA6Bb_biVK"
   },
   "outputs": [],
   "source": [
    "def predict(train, test, predictors, model):\n",
    "    model.fit(train[predictors], train[\"Target\"])\n",
    "    preds = model.predict(test[predictors])\n",
    "    preds = pd.Series(preds, index=test.index, name=\"Predictions\")\n",
    "    return combined"
   ]
  },
  {
   "cell_type": "code",
   "execution_count": 12,
   "metadata": {
    "id": "N_3euybUcixf"
   },
   "outputs": [],
   "source": [
    "def backtest(data, model, predictors, start=750, step=80):\n",
    "    all_predictions = []\n",
    "\n",
    "    for i in range(start, data.shape[0], step):\n",
    "        train = data.iloc[0:i].copy()\n",
    "        test = data.iloc[i:(i+step)].copy()\n",
    "        predictions = predict(train, test, predictors, model)\n",
    "        all_predictions.append(predictions)\n",
    "    \n",
    "    return pd.concat(all_predictions)"
   ]
  },
  {
   "cell_type": "code",
   "execution_count": 13,
   "metadata": {
    "colab": {
     "base_uri": "https://localhost:8080/",
     "height": 311
    },
    "id": "TmANJ_jScme_",
    "outputId": "9d4fc6e2-95ea-4d82-da4d-baa66baa7dc7"
   },
   "outputs": [],
   "source": [
    "predictions = backtest(tatmot, model, predictors)"
   ]
  },
  {
   "cell_type": "code",
   "execution_count": 14,
   "metadata": {
    "id": "qqL1fxQBctks"
   },
   "outputs": [
    {
     "data": {
      "text/plain": [
       "Target  0\n",
       "1       0    2280\n",
       "0       1    1824\n",
       "        0    1748\n",
       "1       1    1748\n",
       "dtype: int64"
      ]
     },
     "execution_count": 14,
     "metadata": {},
     "output_type": "execute_result"
    }
   ],
   "source": [
    "predictions.value_counts()"
   ]
  },
  {
   "cell_type": "code",
   "execution_count": 15,
   "metadata": {
    "id": "fezuDnEXehzR"
   },
   "outputs": [
    {
     "data": {
      "text/plain": [
       "0.48936170212765956"
      ]
     },
     "execution_count": 15,
     "metadata": {},
     "output_type": "execute_result"
    }
   ],
   "source": [
    "precision_score(predictions[\"Target\"],predictions[0])"
   ]
  },
  {
   "cell_type": "code",
   "execution_count": 16,
   "metadata": {
    "id": "-LNTDZnRei9h"
   },
   "outputs": [
    {
     "data": {
      "text/plain": [
       "1    0.53\n",
       "0    0.47\n",
       "Name: Target, dtype: float64"
      ]
     },
     "execution_count": 16,
     "metadata": {},
     "output_type": "execute_result"
    }
   ],
   "source": [
    "predictions[\"Target\"].value_counts() / predictions.shape[0]"
   ]
  },
  {
   "cell_type": "code",
   "execution_count": 17,
   "metadata": {
    "id": "BIeCYkyLenNx"
   },
   "outputs": [],
   "source": [
    "horizons = [2,5,60]\n",
    "new_predictors = []\n",
    "\n",
    "for horizon in horizons:\n",
    "    rolling_averages = tatmot.rolling(horizon).mean()\n",
    "    \n",
    "    ratio_column = f\"Close_Ratio_{horizon}\"\n",
    "    tatmot[ratio_column] = tatmot[\"Close\"] / rolling_averages[\"Close\"]\n",
    "    \n",
    "    trend_column = f\"Trend_{horizon}\"\n",
    "    tatmot[trend_column] = tatmot.shift(1).rolling(horizon).sum()[\"Target\"]\n",
    "    \n",
    "    new_predictors+= [ratio_column, trend_column]"
   ]
  },
  {
   "cell_type": "code",
   "execution_count": 18,
   "metadata": {
    "id": "yerfuVhJeqwA"
   },
   "outputs": [],
   "source": [
    "tatmot=tatmot.dropna()"
   ]
  },
  {
   "cell_type": "code",
   "execution_count": 19,
   "metadata": {
    "id": "o6K6vRMxe1Ep"
   },
   "outputs": [
    {
     "data": {
      "text/html": [
       "<div>\n",
       "<style scoped>\n",
       "    .dataframe tbody tr th:only-of-type {\n",
       "        vertical-align: middle;\n",
       "    }\n",
       "\n",
       "    .dataframe tbody tr th {\n",
       "        vertical-align: top;\n",
       "    }\n",
       "\n",
       "    .dataframe thead th {\n",
       "        text-align: right;\n",
       "    }\n",
       "</style>\n",
       "<table border=\"1\" class=\"dataframe\">\n",
       "  <thead>\n",
       "    <tr style=\"text-align: right;\">\n",
       "      <th></th>\n",
       "      <th>Open</th>\n",
       "      <th>High</th>\n",
       "      <th>Low</th>\n",
       "      <th>Close</th>\n",
       "      <th>Volume</th>\n",
       "      <th>Tomorrow</th>\n",
       "      <th>Target</th>\n",
       "      <th>Close_Ratio_2</th>\n",
       "      <th>Trend_2</th>\n",
       "      <th>Close_Ratio_5</th>\n",
       "      <th>Trend_5</th>\n",
       "      <th>Close_Ratio_60</th>\n",
       "      <th>Trend_60</th>\n",
       "    </tr>\n",
       "    <tr>\n",
       "      <th>Date</th>\n",
       "      <th></th>\n",
       "      <th></th>\n",
       "      <th></th>\n",
       "      <th></th>\n",
       "      <th></th>\n",
       "      <th></th>\n",
       "      <th></th>\n",
       "      <th></th>\n",
       "      <th></th>\n",
       "      <th></th>\n",
       "      <th></th>\n",
       "      <th></th>\n",
       "      <th></th>\n",
       "    </tr>\n",
       "  </thead>\n",
       "  <tbody>\n",
       "    <tr>\n",
       "      <th>1996-03-18</th>\n",
       "      <td>58.721548</td>\n",
       "      <td>59.017058</td>\n",
       "      <td>58.397897</td>\n",
       "      <td>59.010021</td>\n",
       "      <td>224129</td>\n",
       "      <td>58.447144</td>\n",
       "      <td>0</td>\n",
       "      <td>1.002450</td>\n",
       "      <td>1.0</td>\n",
       "      <td>1.001648</td>\n",
       "      <td>3.0</td>\n",
       "      <td>1.054836</td>\n",
       "      <td>26.0</td>\n",
       "    </tr>\n",
       "    <tr>\n",
       "      <th>1996-03-19</th>\n",
       "      <td>59.010017</td>\n",
       "      <td>58.679330</td>\n",
       "      <td>58.123498</td>\n",
       "      <td>58.447144</td>\n",
       "      <td>113238</td>\n",
       "      <td>58.447144</td>\n",
       "      <td>0</td>\n",
       "      <td>0.995208</td>\n",
       "      <td>1.0</td>\n",
       "      <td>0.992710</td>\n",
       "      <td>2.0</td>\n",
       "      <td>1.043228</td>\n",
       "      <td>26.0</td>\n",
       "    </tr>\n",
       "    <tr>\n",
       "      <th>1996-03-20</th>\n",
       "      <td>58.447144</td>\n",
       "      <td>58.447144</td>\n",
       "      <td>58.447144</td>\n",
       "      <td>58.447144</td>\n",
       "      <td>0</td>\n",
       "      <td>59.382927</td>\n",
       "      <td>1</td>\n",
       "      <td>1.000000</td>\n",
       "      <td>0.0</td>\n",
       "      <td>0.995709</td>\n",
       "      <td>1.0</td>\n",
       "      <td>1.041687</td>\n",
       "      <td>26.0</td>\n",
       "    </tr>\n",
       "    <tr>\n",
       "      <th>1996-03-21</th>\n",
       "      <td>58.447152</td>\n",
       "      <td>59.397000</td>\n",
       "      <td>58.714521</td>\n",
       "      <td>59.382927</td>\n",
       "      <td>132546</td>\n",
       "      <td>59.396984</td>\n",
       "      <td>1</td>\n",
       "      <td>1.007942</td>\n",
       "      <td>1.0</td>\n",
       "      <td>1.009884</td>\n",
       "      <td>2.0</td>\n",
       "      <td>1.056510</td>\n",
       "      <td>27.0</td>\n",
       "    </tr>\n",
       "    <tr>\n",
       "      <th>1996-03-22</th>\n",
       "      <td>59.382911</td>\n",
       "      <td>59.523632</td>\n",
       "      <td>59.101474</td>\n",
       "      <td>59.396984</td>\n",
       "      <td>127067</td>\n",
       "      <td>60.009117</td>\n",
       "      <td>1</td>\n",
       "      <td>1.000118</td>\n",
       "      <td>2.0</td>\n",
       "      <td>1.007807</td>\n",
       "      <td>3.0</td>\n",
       "      <td>1.054907</td>\n",
       "      <td>28.0</td>\n",
       "    </tr>\n",
       "    <tr>\n",
       "      <th>...</th>\n",
       "      <td>...</td>\n",
       "      <td>...</td>\n",
       "      <td>...</td>\n",
       "      <td>...</td>\n",
       "      <td>...</td>\n",
       "      <td>...</td>\n",
       "      <td>...</td>\n",
       "      <td>...</td>\n",
       "      <td>...</td>\n",
       "      <td>...</td>\n",
       "      <td>...</td>\n",
       "      <td>...</td>\n",
       "      <td>...</td>\n",
       "    </tr>\n",
       "    <tr>\n",
       "      <th>2022-11-01</th>\n",
       "      <td>414.899994</td>\n",
       "      <td>422.399994</td>\n",
       "      <td>412.799988</td>\n",
       "      <td>421.350006</td>\n",
       "      <td>17324893</td>\n",
       "      <td>422.149994</td>\n",
       "      <td>1</td>\n",
       "      <td>1.010311</td>\n",
       "      <td>2.0</td>\n",
       "      <td>1.024559</td>\n",
       "      <td>5.0</td>\n",
       "      <td>0.969131</td>\n",
       "      <td>30.0</td>\n",
       "    </tr>\n",
       "    <tr>\n",
       "      <th>2022-11-02</th>\n",
       "      <td>423.049988</td>\n",
       "      <td>425.100006</td>\n",
       "      <td>420.149994</td>\n",
       "      <td>422.149994</td>\n",
       "      <td>12433578</td>\n",
       "      <td>416.250000</td>\n",
       "      <td>0</td>\n",
       "      <td>1.000948</td>\n",
       "      <td>2.0</td>\n",
       "      <td>1.017793</td>\n",
       "      <td>5.0</td>\n",
       "      <td>0.972673</td>\n",
       "      <td>31.0</td>\n",
       "    </tr>\n",
       "    <tr>\n",
       "      <th>2022-11-03</th>\n",
       "      <td>419.399994</td>\n",
       "      <td>423.299988</td>\n",
       "      <td>414.500000</td>\n",
       "      <td>416.250000</td>\n",
       "      <td>10987519</td>\n",
       "      <td>425.350006</td>\n",
       "      <td>1</td>\n",
       "      <td>0.992963</td>\n",
       "      <td>1.0</td>\n",
       "      <td>0.999448</td>\n",
       "      <td>4.0</td>\n",
       "      <td>0.961022</td>\n",
       "      <td>30.0</td>\n",
       "    </tr>\n",
       "    <tr>\n",
       "      <th>2022-11-04</th>\n",
       "      <td>418.200012</td>\n",
       "      <td>426.000000</td>\n",
       "      <td>416.899994</td>\n",
       "      <td>425.350006</td>\n",
       "      <td>12277023</td>\n",
       "      <td>435.000000</td>\n",
       "      <td>1</td>\n",
       "      <td>1.010813</td>\n",
       "      <td>1.0</td>\n",
       "      <td>1.013776</td>\n",
       "      <td>4.0</td>\n",
       "      <td>0.983542</td>\n",
       "      <td>31.0</td>\n",
       "    </tr>\n",
       "    <tr>\n",
       "      <th>2022-11-07</th>\n",
       "      <td>428.250000</td>\n",
       "      <td>437.500000</td>\n",
       "      <td>428.250000</td>\n",
       "      <td>435.000000</td>\n",
       "      <td>15058076</td>\n",
       "      <td>438.250000</td>\n",
       "      <td>1</td>\n",
       "      <td>1.011216</td>\n",
       "      <td>2.0</td>\n",
       "      <td>1.025895</td>\n",
       "      <td>4.0</td>\n",
       "      <td>1.007146</td>\n",
       "      <td>31.0</td>\n",
       "    </tr>\n",
       "  </tbody>\n",
       "</table>\n",
       "<p>6700 rows × 13 columns</p>\n",
       "</div>"
      ],
      "text/plain": [
       "                  Open        High         Low       Close    Volume  \\\n",
       "Date                                                                   \n",
       "1996-03-18   58.721548   59.017058   58.397897   59.010021    224129   \n",
       "1996-03-19   59.010017   58.679330   58.123498   58.447144    113238   \n",
       "1996-03-20   58.447144   58.447144   58.447144   58.447144         0   \n",
       "1996-03-21   58.447152   59.397000   58.714521   59.382927    132546   \n",
       "1996-03-22   59.382911   59.523632   59.101474   59.396984    127067   \n",
       "...                ...         ...         ...         ...       ...   \n",
       "2022-11-01  414.899994  422.399994  412.799988  421.350006  17324893   \n",
       "2022-11-02  423.049988  425.100006  420.149994  422.149994  12433578   \n",
       "2022-11-03  419.399994  423.299988  414.500000  416.250000  10987519   \n",
       "2022-11-04  418.200012  426.000000  416.899994  425.350006  12277023   \n",
       "2022-11-07  428.250000  437.500000  428.250000  435.000000  15058076   \n",
       "\n",
       "              Tomorrow  Target  Close_Ratio_2  Trend_2  Close_Ratio_5  \\\n",
       "Date                                                                    \n",
       "1996-03-18   58.447144       0       1.002450      1.0       1.001648   \n",
       "1996-03-19   58.447144       0       0.995208      1.0       0.992710   \n",
       "1996-03-20   59.382927       1       1.000000      0.0       0.995709   \n",
       "1996-03-21   59.396984       1       1.007942      1.0       1.009884   \n",
       "1996-03-22   60.009117       1       1.000118      2.0       1.007807   \n",
       "...                ...     ...            ...      ...            ...   \n",
       "2022-11-01  422.149994       1       1.010311      2.0       1.024559   \n",
       "2022-11-02  416.250000       0       1.000948      2.0       1.017793   \n",
       "2022-11-03  425.350006       1       0.992963      1.0       0.999448   \n",
       "2022-11-04  435.000000       1       1.010813      1.0       1.013776   \n",
       "2022-11-07  438.250000       1       1.011216      2.0       1.025895   \n",
       "\n",
       "            Trend_5  Close_Ratio_60  Trend_60  \n",
       "Date                                           \n",
       "1996-03-18      3.0        1.054836      26.0  \n",
       "1996-03-19      2.0        1.043228      26.0  \n",
       "1996-03-20      1.0        1.041687      26.0  \n",
       "1996-03-21      2.0        1.056510      27.0  \n",
       "1996-03-22      3.0        1.054907      28.0  \n",
       "...             ...             ...       ...  \n",
       "2022-11-01      5.0        0.969131      30.0  \n",
       "2022-11-02      5.0        0.972673      31.0  \n",
       "2022-11-03      4.0        0.961022      30.0  \n",
       "2022-11-04      4.0        0.983542      31.0  \n",
       "2022-11-07      4.0        1.007146      31.0  \n",
       "\n",
       "[6700 rows x 13 columns]"
      ]
     },
     "execution_count": 19,
     "metadata": {},
     "output_type": "execute_result"
    }
   ],
   "source": [
    "tatmot"
   ]
  },
  {
   "cell_type": "code",
   "execution_count": 20,
   "metadata": {
    "id": "_IlPNFWBe2RZ"
   },
   "outputs": [],
   "source": [
    "model = RandomForestClassifier(n_estimators=200, min_samples_split=50, random_state=1)"
   ]
  },
  {
   "cell_type": "code",
   "execution_count": 21,
   "metadata": {
    "id": "OAm707T3e7r6"
   },
   "outputs": [],
   "source": [
    "def predict(train, test, predictors, model):\n",
    "    model.fit(train[predictors], train[\"Target\"])\n",
    "    preds = model.predict_proba(test[predictors])[:,1]\n",
    "    preds[preds >=.6] = 1\n",
    "    preds[preds <.6] = 0\n",
    "    preds = pd.Series(preds, index=test.index, name=\"Predictions\")\n",
    "    combined = pd.concat([test[\"Target\"], preds], axis=1)\n",
    "    return combined"
   ]
  },
  {
   "cell_type": "code",
   "execution_count": 22,
   "metadata": {
    "id": "8GsFWFkge-Qp"
   },
   "outputs": [
    {
     "data": {
      "text/plain": [
       "Target  Predictions\n",
       "0       0.0            2808\n",
       "1       0.0            2759\n",
       "        1.0             207\n",
       "0       1.0             176\n",
       "dtype: int64"
      ]
     },
     "execution_count": 22,
     "metadata": {},
     "output_type": "execute_result"
    }
   ],
   "source": [
    "predictions = backtest(tatmot, model, new_predictors)\n",
    "predictions.value_counts()"
   ]
  },
  {
   "cell_type": "code",
   "execution_count": 23,
   "metadata": {},
   "outputs": [
    {
     "data": {
      "text/plain": [
       "0.0    5567\n",
       "1.0     383\n",
       "Name: Predictions, dtype: int64"
      ]
     },
     "execution_count": 23,
     "metadata": {},
     "output_type": "execute_result"
    }
   ],
   "source": [
    "predictions[\"Predictions\"].value_counts()"
   ]
  },
  {
   "cell_type": "code",
   "execution_count": 24,
   "metadata": {
    "id": "UFYVg0lQfL6Z"
   },
   "outputs": [
    {
     "data": {
      "text/plain": [
       "0.5404699738903395"
      ]
     },
     "execution_count": 24,
     "metadata": {},
     "output_type": "execute_result"
    }
   ],
   "source": [
    "precision_score(predictions[\"Target\"], predictions[\"Predictions\"])"
   ]
  },
  {
   "cell_type": "code",
   "execution_count": 25,
   "metadata": {
    "id": "Wx3VceWlfRTK"
   },
   "outputs": [
    {
     "data": {
      "text/plain": [
       "0    0.501513\n",
       "1    0.498487\n",
       "Name: Target, dtype: float64"
      ]
     },
     "execution_count": 25,
     "metadata": {},
     "output_type": "execute_result"
    }
   ],
   "source": [
    "predictions[\"Target\"].value_counts() / predictions.shape[0]"
   ]
  },
  {
   "cell_type": "code",
   "execution_count": 26,
   "metadata": {},
   "outputs": [
    {
     "data": {
      "text/html": [
       "<div>\n",
       "<style scoped>\n",
       "    .dataframe tbody tr th:only-of-type {\n",
       "        vertical-align: middle;\n",
       "    }\n",
       "\n",
       "    .dataframe tbody tr th {\n",
       "        vertical-align: top;\n",
       "    }\n",
       "\n",
       "    .dataframe thead th {\n",
       "        text-align: right;\n",
       "    }\n",
       "</style>\n",
       "<table border=\"1\" class=\"dataframe\">\n",
       "  <thead>\n",
       "    <tr style=\"text-align: right;\">\n",
       "      <th></th>\n",
       "      <th>Open</th>\n",
       "      <th>High</th>\n",
       "      <th>Low</th>\n",
       "      <th>Close</th>\n",
       "      <th>Volume</th>\n",
       "      <th>Tomorrow</th>\n",
       "      <th>Target</th>\n",
       "      <th>Close_Ratio_2</th>\n",
       "      <th>Trend_2</th>\n",
       "      <th>Close_Ratio_5</th>\n",
       "      <th>Trend_5</th>\n",
       "      <th>Close_Ratio_60</th>\n",
       "      <th>Trend_60</th>\n",
       "    </tr>\n",
       "    <tr>\n",
       "      <th>Date</th>\n",
       "      <th></th>\n",
       "      <th></th>\n",
       "      <th></th>\n",
       "      <th></th>\n",
       "      <th></th>\n",
       "      <th></th>\n",
       "      <th></th>\n",
       "      <th></th>\n",
       "      <th></th>\n",
       "      <th></th>\n",
       "      <th></th>\n",
       "      <th></th>\n",
       "      <th></th>\n",
       "    </tr>\n",
       "  </thead>\n",
       "  <tbody>\n",
       "    <tr>\n",
       "      <th>1996-03-18</th>\n",
       "      <td>58.721548</td>\n",
       "      <td>59.017058</td>\n",
       "      <td>58.397897</td>\n",
       "      <td>59.010021</td>\n",
       "      <td>224129</td>\n",
       "      <td>58.447144</td>\n",
       "      <td>0</td>\n",
       "      <td>1.002450</td>\n",
       "      <td>1.0</td>\n",
       "      <td>1.001648</td>\n",
       "      <td>3.0</td>\n",
       "      <td>1.054836</td>\n",
       "      <td>26.0</td>\n",
       "    </tr>\n",
       "    <tr>\n",
       "      <th>1996-03-19</th>\n",
       "      <td>59.010017</td>\n",
       "      <td>58.679330</td>\n",
       "      <td>58.123498</td>\n",
       "      <td>58.447144</td>\n",
       "      <td>113238</td>\n",
       "      <td>58.447144</td>\n",
       "      <td>0</td>\n",
       "      <td>0.995208</td>\n",
       "      <td>1.0</td>\n",
       "      <td>0.992710</td>\n",
       "      <td>2.0</td>\n",
       "      <td>1.043228</td>\n",
       "      <td>26.0</td>\n",
       "    </tr>\n",
       "    <tr>\n",
       "      <th>1996-03-20</th>\n",
       "      <td>58.447144</td>\n",
       "      <td>58.447144</td>\n",
       "      <td>58.447144</td>\n",
       "      <td>58.447144</td>\n",
       "      <td>0</td>\n",
       "      <td>59.382927</td>\n",
       "      <td>1</td>\n",
       "      <td>1.000000</td>\n",
       "      <td>0.0</td>\n",
       "      <td>0.995709</td>\n",
       "      <td>1.0</td>\n",
       "      <td>1.041687</td>\n",
       "      <td>26.0</td>\n",
       "    </tr>\n",
       "    <tr>\n",
       "      <th>1996-03-21</th>\n",
       "      <td>58.447152</td>\n",
       "      <td>59.397000</td>\n",
       "      <td>58.714521</td>\n",
       "      <td>59.382927</td>\n",
       "      <td>132546</td>\n",
       "      <td>59.396984</td>\n",
       "      <td>1</td>\n",
       "      <td>1.007942</td>\n",
       "      <td>1.0</td>\n",
       "      <td>1.009884</td>\n",
       "      <td>2.0</td>\n",
       "      <td>1.056510</td>\n",
       "      <td>27.0</td>\n",
       "    </tr>\n",
       "    <tr>\n",
       "      <th>1996-03-22</th>\n",
       "      <td>59.382911</td>\n",
       "      <td>59.523632</td>\n",
       "      <td>59.101474</td>\n",
       "      <td>59.396984</td>\n",
       "      <td>127067</td>\n",
       "      <td>60.009117</td>\n",
       "      <td>1</td>\n",
       "      <td>1.000118</td>\n",
       "      <td>2.0</td>\n",
       "      <td>1.007807</td>\n",
       "      <td>3.0</td>\n",
       "      <td>1.054907</td>\n",
       "      <td>28.0</td>\n",
       "    </tr>\n",
       "    <tr>\n",
       "      <th>...</th>\n",
       "      <td>...</td>\n",
       "      <td>...</td>\n",
       "      <td>...</td>\n",
       "      <td>...</td>\n",
       "      <td>...</td>\n",
       "      <td>...</td>\n",
       "      <td>...</td>\n",
       "      <td>...</td>\n",
       "      <td>...</td>\n",
       "      <td>...</td>\n",
       "      <td>...</td>\n",
       "      <td>...</td>\n",
       "      <td>...</td>\n",
       "    </tr>\n",
       "    <tr>\n",
       "      <th>2022-11-01</th>\n",
       "      <td>414.899994</td>\n",
       "      <td>422.399994</td>\n",
       "      <td>412.799988</td>\n",
       "      <td>421.350006</td>\n",
       "      <td>17324893</td>\n",
       "      <td>422.149994</td>\n",
       "      <td>1</td>\n",
       "      <td>1.010311</td>\n",
       "      <td>2.0</td>\n",
       "      <td>1.024559</td>\n",
       "      <td>5.0</td>\n",
       "      <td>0.969131</td>\n",
       "      <td>30.0</td>\n",
       "    </tr>\n",
       "    <tr>\n",
       "      <th>2022-11-02</th>\n",
       "      <td>423.049988</td>\n",
       "      <td>425.100006</td>\n",
       "      <td>420.149994</td>\n",
       "      <td>422.149994</td>\n",
       "      <td>12433578</td>\n",
       "      <td>416.250000</td>\n",
       "      <td>0</td>\n",
       "      <td>1.000948</td>\n",
       "      <td>2.0</td>\n",
       "      <td>1.017793</td>\n",
       "      <td>5.0</td>\n",
       "      <td>0.972673</td>\n",
       "      <td>31.0</td>\n",
       "    </tr>\n",
       "    <tr>\n",
       "      <th>2022-11-03</th>\n",
       "      <td>419.399994</td>\n",
       "      <td>423.299988</td>\n",
       "      <td>414.500000</td>\n",
       "      <td>416.250000</td>\n",
       "      <td>10987519</td>\n",
       "      <td>425.350006</td>\n",
       "      <td>1</td>\n",
       "      <td>0.992963</td>\n",
       "      <td>1.0</td>\n",
       "      <td>0.999448</td>\n",
       "      <td>4.0</td>\n",
       "      <td>0.961022</td>\n",
       "      <td>30.0</td>\n",
       "    </tr>\n",
       "    <tr>\n",
       "      <th>2022-11-04</th>\n",
       "      <td>418.200012</td>\n",
       "      <td>426.000000</td>\n",
       "      <td>416.899994</td>\n",
       "      <td>425.350006</td>\n",
       "      <td>12277023</td>\n",
       "      <td>435.000000</td>\n",
       "      <td>1</td>\n",
       "      <td>1.010813</td>\n",
       "      <td>1.0</td>\n",
       "      <td>1.013776</td>\n",
       "      <td>4.0</td>\n",
       "      <td>0.983542</td>\n",
       "      <td>31.0</td>\n",
       "    </tr>\n",
       "    <tr>\n",
       "      <th>2022-11-07</th>\n",
       "      <td>428.250000</td>\n",
       "      <td>437.500000</td>\n",
       "      <td>428.250000</td>\n",
       "      <td>435.000000</td>\n",
       "      <td>15058076</td>\n",
       "      <td>438.250000</td>\n",
       "      <td>1</td>\n",
       "      <td>1.011216</td>\n",
       "      <td>2.0</td>\n",
       "      <td>1.025895</td>\n",
       "      <td>4.0</td>\n",
       "      <td>1.007146</td>\n",
       "      <td>31.0</td>\n",
       "    </tr>\n",
       "  </tbody>\n",
       "</table>\n",
       "<p>6700 rows × 13 columns</p>\n",
       "</div>"
      ],
      "text/plain": [
       "                  Open        High         Low       Close    Volume  \\\n",
       "Date                                                                   \n",
       "1996-03-18   58.721548   59.017058   58.397897   59.010021    224129   \n",
       "1996-03-19   59.010017   58.679330   58.123498   58.447144    113238   \n",
       "1996-03-20   58.447144   58.447144   58.447144   58.447144         0   \n",
       "1996-03-21   58.447152   59.397000   58.714521   59.382927    132546   \n",
       "1996-03-22   59.382911   59.523632   59.101474   59.396984    127067   \n",
       "...                ...         ...         ...         ...       ...   \n",
       "2022-11-01  414.899994  422.399994  412.799988  421.350006  17324893   \n",
       "2022-11-02  423.049988  425.100006  420.149994  422.149994  12433578   \n",
       "2022-11-03  419.399994  423.299988  414.500000  416.250000  10987519   \n",
       "2022-11-04  418.200012  426.000000  416.899994  425.350006  12277023   \n",
       "2022-11-07  428.250000  437.500000  428.250000  435.000000  15058076   \n",
       "\n",
       "              Tomorrow  Target  Close_Ratio_2  Trend_2  Close_Ratio_5  \\\n",
       "Date                                                                    \n",
       "1996-03-18   58.447144       0       1.002450      1.0       1.001648   \n",
       "1996-03-19   58.447144       0       0.995208      1.0       0.992710   \n",
       "1996-03-20   59.382927       1       1.000000      0.0       0.995709   \n",
       "1996-03-21   59.396984       1       1.007942      1.0       1.009884   \n",
       "1996-03-22   60.009117       1       1.000118      2.0       1.007807   \n",
       "...                ...     ...            ...      ...            ...   \n",
       "2022-11-01  422.149994       1       1.010311      2.0       1.024559   \n",
       "2022-11-02  416.250000       0       1.000948      2.0       1.017793   \n",
       "2022-11-03  425.350006       1       0.992963      1.0       0.999448   \n",
       "2022-11-04  435.000000       1       1.010813      1.0       1.013776   \n",
       "2022-11-07  438.250000       1       1.011216      2.0       1.025895   \n",
       "\n",
       "            Trend_5  Close_Ratio_60  Trend_60  \n",
       "Date                                           \n",
       "1996-03-18      3.0        1.054836      26.0  \n",
       "1996-03-19      2.0        1.043228      26.0  \n",
       "1996-03-20      1.0        1.041687      26.0  \n",
       "1996-03-21      2.0        1.056510      27.0  \n",
       "1996-03-22      3.0        1.054907      28.0  \n",
       "...             ...             ...       ...  \n",
       "2022-11-01      5.0        0.969131      30.0  \n",
       "2022-11-02      5.0        0.972673      31.0  \n",
       "2022-11-03      4.0        0.961022      30.0  \n",
       "2022-11-04      4.0        0.983542      31.0  \n",
       "2022-11-07      4.0        1.007146      31.0  \n",
       "\n",
       "[6700 rows x 13 columns]"
      ]
     },
     "execution_count": 26,
     "metadata": {},
     "output_type": "execute_result"
    }
   ],
   "source": [
    "tatmot"
   ]
  },
  {
   "cell_type": "code",
   "execution_count": null,
   "metadata": {},
   "outputs": [],
   "source": []
  }
 ],
 "metadata": {
  "colab": {
   "name": "StockPricePrediction.ipynb",
   "provenance": []
  },
  "kernelspec": {
   "display_name": "Python 3",
   "language": "python",
   "name": "python3"
  },
  "language_info": {
   "codemirror_mode": {
    "name": "ipython",
    "version": 3
   },
   "file_extension": ".py",
   "mimetype": "text/x-python",
   "name": "python",
   "nbconvert_exporter": "python",
   "pygments_lexer": "ipython3",
   "version": "3.9.1"
  }
 },
 "nbformat": 4,
 "nbformat_minor": 1
}
